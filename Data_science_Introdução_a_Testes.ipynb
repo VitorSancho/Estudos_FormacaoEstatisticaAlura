{
  "nbformat": 4,
  "nbformat_minor": 0,
  "metadata": {
    "colab": {
      "name": "Data science - Introdução a Testes.ipynb",
      "provenance": [],
      "collapsed_sections": [
        "B-hxKDNYJswK",
        "T7jlcSblJ1C_",
        "GoUR4M2-KArG",
        "1EGrFWA4KZUG",
        "9n2L_IsDKfgV",
        "hZKSSqkUKzVC",
        "PxZ8-qodK9uq",
        "MvwoDlgSLMaL",
        "9eMBzsvjLQ0m",
        "cF6D8GCkLYKu",
        "dDdZx9gXLicp",
        "OWgU0pyNLtwb",
        "yvIEk_5WL0Zd",
        "FiQW2ypvMK8P"
      ],
      "authorship_tag": "ABX9TyPRS7lROxiTY57UY4aaDlr3",
      "include_colab_link": true
    },
    "kernelspec": {
      "name": "python3",
      "display_name": "Python 3"
    }
  },
  "cells": [
    {
      "cell_type": "markdown",
      "metadata": {
        "id": "view-in-github",
        "colab_type": "text"
      },
      "source": [
        "<a href=\"https://colab.research.google.com/github/VitorSancho/Estudos_FormacaoEstatisticaAlura/blob/main/Data_science_Introdu%C3%A7%C3%A3o_a_Testes.ipynb\" target=\"_parent\"><img src=\"https://colab.research.google.com/assets/colab-badge.svg\" alt=\"Open In Colab\"/></a>"
      ]
    },
    {
      "cell_type": "code",
      "metadata": {
        "id": "Po_hv3FsrMxr"
      },
      "source": [
        ""
      ],
      "execution_count": null,
      "outputs": []
    },
    {
      "cell_type": "code",
      "metadata": {
        "colab": {
          "base_uri": "https://localhost:8080/"
        },
        "id": "8NPzpbuVrpAk",
        "outputId": "5ac2fec0-26c4-4077-b540-d63f360ed9cc"
      },
      "source": [
        "import pandas as pd\r\n",
        "from google.colab import drive\r\n",
        "import seaborn as sns\r\n",
        "drive.mount('/content/drive')\r\n",
        "\r\n",
        "dados_tmdb=pd.read_csv(\"/content/drive/My Drive/tmdb_5000_movies.csv\")\r\n"
      ],
      "execution_count": null,
      "outputs": [
        {
          "output_type": "stream",
          "text": [
            "Mounted at /content/drive\n"
          ],
          "name": "stdout"
        }
      ]
    },
    {
      "cell_type": "code",
      "metadata": {
        "id": "2IWegeC5r77-"
      },
      "source": [
        "dados_tmdb.head(5)"
      ],
      "execution_count": null,
      "outputs": []
    },
    {
      "cell_type": "code",
      "metadata": {
        "id": "n6otCodXsLQk"
      },
      "source": [
        "dados_tmdb.describe()"
      ],
      "execution_count": null,
      "outputs": []
    },
    {
      "cell_type": "markdown",
      "metadata": {
        "id": "B-hxKDNYJswK"
      },
      "source": [
        "# Densidade de distribuição das notas médias do tmdb\r\n"
      ]
    },
    {
      "cell_type": "code",
      "metadata": {
        "colab": {
          "base_uri": "https://localhost:8080/"
        },
        "id": "EtygeYfisYkN",
        "outputId": "73cea9be-9d80-4008-82fb-58f803987c3b"
      },
      "source": [
        "ax=sns.distplot(dados_tmdb.vote_average)\r\n",
        "ax.set(xlabel='Nota Média',ylabel=\"Densidade\")\r\n",
        "ax.set_title(\"Média de Votos tmdb 5000\")"
      ],
      "execution_count": null,
      "outputs": [
        {
          "output_type": "stream",
          "text": [
            "/usr/local/lib/python3.6/dist-packages/seaborn/distributions.py:2557: FutureWarning: `distplot` is a deprecated function and will be removed in a future version. Please adapt your code to use either `displot` (a figure-level function with similar flexibility) or `histplot` (an axes-level function for histograms).\n",
            "  warnings.warn(msg, FutureWarning)\n"
          ],
          "name": "stderr"
        },
        {
          "output_type": "execute_result",
          "data": {
            "text/plain": [
              "Text(0.5, 1.0, 'Média de Votos tmdb 5000')"
            ]
          },
          "metadata": {
            "tags": []
          },
          "execution_count": 4
        },
        {
          "output_type": "display_data",
          "data": {
            "image/png": "[encoded data removed]",
            "text/plain": [
              "<Figure size 432x288 with 1 Axes>"
            ]
          },
          "metadata": {
            "tags": [],
            "needs_background": "light"
          }
        }
      ]
    },
    {
      "cell_type": "markdown",
      "metadata": {
        "id": "T7jlcSblJ1C_"
      },
      "source": [
        "# Distribuição de frequencia das notas do tmdb"
      ]
    },
    {
      "cell_type": "code",
      "metadata": {
        "id": "Nt5nR1ylsrHj"
      },
      "source": [
        "ax=sns.distplot(dados_tmdb.vote_average,norm_hist=False,kde=False)\r\n",
        "ax.set(xlabel='Nota Média',ylabel=\"Frequência\")\r\n",
        "ax.set_title(\"Média de Votos tmdb 5000\")"
      ],
      "execution_count": null,
      "outputs": []
    },
    {
      "cell_type": "code",
      "metadata": {
        "id": "-_uerC3LtRE0"
      },
      "source": [
        "ax=sns.boxplot(dados_tmdb.vote_average)\r\n",
        "ax.set(xlabel=\"Nota média\")\r\n",
        "ax.set_title(\"Distrtibuição de nota média ds filmes do tmdb 5000\")"
      ],
      "execution_count": null,
      "outputs": []
    },
    {
      "cell_type": "markdown",
      "metadata": {
        "id": "GoUR4M2-KArG"
      },
      "source": [
        "# Limpeza dos dados do TMDB"
      ]
    },
    {
      "cell_type": "code",
      "metadata": {
        "colab": {
          "base_uri": "https://localhost:8080/"
        },
        "id": "omdFS1q2t3Ys",
        "outputId": "69184598-0e01-48cd-83de-61ba9d688048"
      },
      "source": [
        "dados_tmdb.query('vote_average==0').head(5)"
      ],
      "execution_count": null,
      "outputs": [
        {
          "output_type": "execute_result",
          "data": {
            "text/html": [
              "<div>\n",
              "<style scoped>\n",
              "    .dataframe tbody tr th:only-of-type {\n",
              "        vertical-align: middle;\n",
              "    }\n",
              "\n",
              "    .dataframe tbody tr th {\n",
              "        vertical-align: top;\n",
              "    }\n",
              "\n",
              "    .dataframe thead th {\n",
              "        text-align: right;\n",
              "    }\n",
              "</style>\n",
              "<table border=\"1\" class=\"dataframe\">\n",
              "  <thead>\n",
              "    <tr style=\"text-align: right;\">\n",
              "      <th></th>\n",
              "      <th>budget</th>\n",
              "      <th>genres</th>\n",
              "      <th>homepage</th>\n",
              "      <th>id</th>\n",
              "      <th>keywords</th>\n",
              "      <th>original_language</th>\n",
              "      <th>original_title</th>\n",
              "      <th>overview</th>\n",
              "      <th>popularity</th>\n",
              "      <th>production_companies</th>\n",
              "      <th>production_countries</th>\n",
              "      <th>release_date</th>\n",
              "      <th>revenue</th>\n",
              "      <th>runtime</th>\n",
              "      <th>spoken_languages</th>\n",
              "      <th>status</th>\n",
              "      <th>tagline</th>\n",
              "      <th>title</th>\n",
              "      <th>vote_average</th>\n",
              "      <th>vote_count</th>\n",
              "    </tr>\n",
              "  </thead>\n",
              "  <tbody>\n",
              "    <tr>\n",
              "      <th>1464</th>\n",
              "      <td>0</td>\n",
              "      <td>[{\"id\": 18, \"name\": \"Drama\"}, {\"id\": 80, \"name...</td>\n",
              "      <td>NaN</td>\n",
              "      <td>310706</td>\n",
              "      <td>[]</td>\n",
              "      <td>en</td>\n",
              "      <td>Black Water Transit</td>\n",
              "      <td>In this action thriller set in post-Katrina Ne...</td>\n",
              "      <td>0.126738</td>\n",
              "      <td>[{\"name\": \"Capitol Films\", \"id\": 826}]</td>\n",
              "      <td>[{\"iso_3166_1\": \"US\", \"name\": \"United States o...</td>\n",
              "      <td>2009-05-13</td>\n",
              "      <td>0</td>\n",
              "      <td>100.0</td>\n",
              "      <td>[{\"iso_639_1\": \"en\", \"name\": \"English\"}]</td>\n",
              "      <td>Released</td>\n",
              "      <td>NaN</td>\n",
              "      <td>Black Water Transit</td>\n",
              "      <td>0.0</td>\n",
              "      <td>0</td>\n",
              "    </tr>\n",
              "    <tr>\n",
              "      <th>3669</th>\n",
              "      <td>0</td>\n",
              "      <td>[{\"id\": 35, \"name\": \"Comedy\"}, {\"id\": 18, \"nam...</td>\n",
              "      <td>http://www.romeothemovie.com/</td>\n",
              "      <td>113406</td>\n",
              "      <td>[]</td>\n",
              "      <td>en</td>\n",
              "      <td>Should've Been Romeo</td>\n",
              "      <td>A self-centered, middle-aged pitchman for a po...</td>\n",
              "      <td>0.407030</td>\n",
              "      <td>[{\"name\": \"Phillybrook Films\", \"id\": 65147}]</td>\n",
              "      <td>[{\"iso_3166_1\": \"US\", \"name\": \"United States o...</td>\n",
              "      <td>2012-04-28</td>\n",
              "      <td>0</td>\n",
              "      <td>0.0</td>\n",
              "      <td>[{\"iso_639_1\": \"en\", \"name\": \"English\"}]</td>\n",
              "      <td>Released</td>\n",
              "      <td>Even Shakespeare didn't see this one coming.</td>\n",
              "      <td>Should've Been Romeo</td>\n",
              "      <td>0.0</td>\n",
              "      <td>0</td>\n",
              "    </tr>\n",
              "    <tr>\n",
              "      <th>3670</th>\n",
              "      <td>0</td>\n",
              "      <td>[{\"id\": 10751, \"name\": \"Family\"}]</td>\n",
              "      <td>NaN</td>\n",
              "      <td>447027</td>\n",
              "      <td>[]</td>\n",
              "      <td>en</td>\n",
              "      <td>Running Forever</td>\n",
              "      <td>After being estranged since her mother's death...</td>\n",
              "      <td>0.028756</td>\n",
              "      <td>[{\"name\": \"New Kingdom Pictures\", \"id\": 41671}]</td>\n",
              "      <td>[{\"iso_3166_1\": \"US\", \"name\": \"United States o...</td>\n",
              "      <td>2015-10-27</td>\n",
              "      <td>0</td>\n",
              "      <td>88.0</td>\n",
              "      <td>[]</td>\n",
              "      <td>Released</td>\n",
              "      <td>NaN</td>\n",
              "      <td>Running Forever</td>\n",
              "      <td>0.0</td>\n",
              "      <td>0</td>\n",
              "    </tr>\n",
              "    <tr>\n",
              "      <th>3852</th>\n",
              "      <td>0</td>\n",
              "      <td>[{\"id\": 18, \"name\": \"Drama\"}]</td>\n",
              "      <td>NaN</td>\n",
              "      <td>395766</td>\n",
              "      <td>[{\"id\": 11162, \"name\": \"miniseries\"}]</td>\n",
              "      <td>en</td>\n",
              "      <td>The Secret</td>\n",
              "      <td>The Secret is the story of a real-life double ...</td>\n",
              "      <td>0.042346</td>\n",
              "      <td>[]</td>\n",
              "      <td>[]</td>\n",
              "      <td>2016-04-29</td>\n",
              "      <td>0</td>\n",
              "      <td>200.0</td>\n",
              "      <td>[]</td>\n",
              "      <td>Released</td>\n",
              "      <td>NaN</td>\n",
              "      <td>The Secret</td>\n",
              "      <td>0.0</td>\n",
              "      <td>0</td>\n",
              "    </tr>\n",
              "    <tr>\n",
              "      <th>3855</th>\n",
              "      <td>3500000</td>\n",
              "      <td>[{\"id\": 99, \"name\": \"Documentary\"}]</td>\n",
              "      <td>http://www.timetochoose.com</td>\n",
              "      <td>370662</td>\n",
              "      <td>[{\"id\": 2210, \"name\": \"climate change\"}, {\"id\"...</td>\n",
              "      <td>en</td>\n",
              "      <td>Time to Choose</td>\n",
              "      <td>Academy Award® winning director Charles Fergus...</td>\n",
              "      <td>1.618138</td>\n",
              "      <td>[{\"name\": \"Representational Pictures\", \"id\": 8...</td>\n",
              "      <td>[{\"iso_3166_1\": \"US\", \"name\": \"United States o...</td>\n",
              "      <td>2015-09-04</td>\n",
              "      <td>0</td>\n",
              "      <td>100.0</td>\n",
              "      <td>[{\"iso_639_1\": \"en\", \"name\": \"English\"}]</td>\n",
              "      <td>Released</td>\n",
              "      <td>Climate change for good.</td>\n",
              "      <td>Time to Choose</td>\n",
              "      <td>0.0</td>\n",
              "      <td>0</td>\n",
              "    </tr>\n",
              "  </tbody>\n",
              "</table>\n",
              "</div>"
            ],
            "text/plain": [
              "       budget  ... vote_count\n",
              "1464        0  ...          0\n",
              "3669        0  ...          0\n",
              "3670        0  ...          0\n",
              "3852        0  ...          0\n",
              "3855  3500000  ...          0\n",
              "\n",
              "[5 rows x 20 columns]"
            ]
          },
          "metadata": {
            "tags": []
          },
          "execution_count": 7
        }
      ]
    },
    {
      "cell_type": "markdown",
      "metadata": {
        "id": "GxNx9BDOKIgw"
      },
      "source": [
        "Retirando os dados com poucos votos pois suas notas podem não refletir a realidade"
      ]
    },
    {
      "cell_type": "code",
      "metadata": {
        "id": "-wBuEu5UvMFj"
      },
      "source": [
        "dados_tmdb_mais_de_10_votos=dados_tmdb.query('vote_count>=5')"
      ],
      "execution_count": null,
      "outputs": []
    },
    {
      "cell_type": "code",
      "metadata": {
        "colab": {
          "base_uri": "https://localhost:8080/"
        },
        "id": "M8lO57u7vWgT",
        "outputId": "3ccf1742-efae-44c6-e499-1e4be7d209e8"
      },
      "source": [
        "dados_tmdb_mais_de_10_votos.describe()"
      ],
      "execution_count": null,
      "outputs": [
        {
          "output_type": "execute_result",
          "data": {
            "text/html": [
              "<div>\n",
              "<style scoped>\n",
              "    .dataframe tbody tr th:only-of-type {\n",
              "        vertical-align: middle;\n",
              "    }\n",
              "\n",
              "    .dataframe tbody tr th {\n",
              "        vertical-align: top;\n",
              "    }\n",
              "\n",
              "    .dataframe thead th {\n",
              "        text-align: right;\n",
              "    }\n",
              "</style>\n",
              "<table border=\"1\" class=\"dataframe\">\n",
              "  <thead>\n",
              "    <tr style=\"text-align: right;\">\n",
              "      <th></th>\n",
              "      <th>budget</th>\n",
              "      <th>id</th>\n",
              "      <th>popularity</th>\n",
              "      <th>revenue</th>\n",
              "      <th>runtime</th>\n",
              "      <th>vote_average</th>\n",
              "      <th>vote_count</th>\n",
              "    </tr>\n",
              "  </thead>\n",
              "  <tbody>\n",
              "    <tr>\n",
              "      <th>count</th>\n",
              "      <td>4.558000e+03</td>\n",
              "      <td>4558.000000</td>\n",
              "      <td>4558.000000</td>\n",
              "      <td>4.558000e+03</td>\n",
              "      <td>4557.000000</td>\n",
              "      <td>4558.000000</td>\n",
              "      <td>4558.000000</td>\n",
              "    </tr>\n",
              "    <tr>\n",
              "      <th>mean</th>\n",
              "      <td>3.056117e+07</td>\n",
              "      <td>51000.241773</td>\n",
              "      <td>22.630649</td>\n",
              "      <td>8.666175e+07</td>\n",
              "      <td>108.067369</td>\n",
              "      <td>6.200856</td>\n",
              "      <td>727.221808</td>\n",
              "    </tr>\n",
              "    <tr>\n",
              "      <th>std</th>\n",
              "      <td>4.125080e+07</td>\n",
              "      <td>81663.080690</td>\n",
              "      <td>32.269245</td>\n",
              "      <td>1.660373e+08</td>\n",
              "      <td>21.115367</td>\n",
              "      <td>0.918570</td>\n",
              "      <td>1256.701696</td>\n",
              "    </tr>\n",
              "    <tr>\n",
              "      <th>min</th>\n",
              "      <td>0.000000e+00</td>\n",
              "      <td>5.000000</td>\n",
              "      <td>0.001117</td>\n",
              "      <td>0.000000e+00</td>\n",
              "      <td>0.000000</td>\n",
              "      <td>1.900000</td>\n",
              "      <td>5.000000</td>\n",
              "    </tr>\n",
              "    <tr>\n",
              "      <th>25%</th>\n",
              "      <td>2.000000e+06</td>\n",
              "      <td>8811.000000</td>\n",
              "      <td>5.754700</td>\n",
              "      <td>0.000000e+00</td>\n",
              "      <td>94.000000</td>\n",
              "      <td>5.700000</td>\n",
              "      <td>71.000000</td>\n",
              "    </tr>\n",
              "    <tr>\n",
              "      <th>50%</th>\n",
              "      <td>1.540000e+07</td>\n",
              "      <td>13786.500000</td>\n",
              "      <td>14.181831</td>\n",
              "      <td>2.333176e+07</td>\n",
              "      <td>104.000000</td>\n",
              "      <td>6.300000</td>\n",
              "      <td>269.000000</td>\n",
              "    </tr>\n",
              "    <tr>\n",
              "      <th>75%</th>\n",
              "      <td>4.000000e+07</td>\n",
              "      <td>49518.500000</td>\n",
              "      <td>29.404666</td>\n",
              "      <td>9.843398e+07</td>\n",
              "      <td>118.000000</td>\n",
              "      <td>6.800000</td>\n",
              "      <td>796.750000</td>\n",
              "    </tr>\n",
              "    <tr>\n",
              "      <th>max</th>\n",
              "      <td>3.800000e+08</td>\n",
              "      <td>426469.000000</td>\n",
              "      <td>875.581305</td>\n",
              "      <td>2.787965e+09</td>\n",
              "      <td>338.000000</td>\n",
              "      <td>8.500000</td>\n",
              "      <td>13752.000000</td>\n",
              "    </tr>\n",
              "  </tbody>\n",
              "</table>\n",
              "</div>"
            ],
            "text/plain": [
              "             budget             id  ...  vote_average    vote_count\n",
              "count  4.558000e+03    4558.000000  ...   4558.000000   4558.000000\n",
              "mean   3.056117e+07   51000.241773  ...      6.200856    727.221808\n",
              "std    4.125080e+07   81663.080690  ...      0.918570   1256.701696\n",
              "min    0.000000e+00       5.000000  ...      1.900000      5.000000\n",
              "25%    2.000000e+06    8811.000000  ...      5.700000     71.000000\n",
              "50%    1.540000e+07   13786.500000  ...      6.300000    269.000000\n",
              "75%    4.000000e+07   49518.500000  ...      6.800000    796.750000\n",
              "max    3.800000e+08  426469.000000  ...      8.500000  13752.000000\n",
              "\n",
              "[8 rows x 7 columns]"
            ]
          },
          "metadata": {
            "tags": []
          },
          "execution_count": 9
        }
      ]
    },
    {
      "cell_type": "markdown",
      "metadata": {
        "id": "1EGrFWA4KZUG"
      },
      "source": [
        "# Distribuição de frequencia das notas do tmdb - dados tratados"
      ]
    },
    {
      "cell_type": "code",
      "metadata": {
        "colab": {
          "base_uri": "https://localhost:8080/"
        },
        "id": "zCLdccSNvgNz",
        "outputId": "c8161595-0ab1-4502-f8f0-cde95a0a2add"
      },
      "source": [
        "ax=sns.distplot(dados_tmdb_mais_de_10_votos.vote_average,norm_hist=False,kde=False)\r\n",
        "ax.set(xlabel='Nota Média',ylabel=\"Frequência\")\r\n",
        "ax.set_title(\"Média de Votos tmdb 5000 de filmes com mais de 10 votos\")"
      ],
      "execution_count": null,
      "outputs": [
        {
          "output_type": "stream",
          "text": [
            "/usr/local/lib/python3.6/dist-packages/seaborn/distributions.py:2557: FutureWarning: `distplot` is a deprecated function and will be removed in a future version. Please adapt your code to use either `displot` (a figure-level function with similar flexibility) or `histplot` (an axes-level function for histograms).\n",
            "  warnings.warn(msg, FutureWarning)\n"
          ],
          "name": "stderr"
        },
        {
          "output_type": "execute_result",
          "data": {
            "text/plain": [
              "Text(0.5, 1.0, 'Média de Votos tmdb 5000 de filmes com mais de 10 votos')"
            ]
          },
          "metadata": {
            "tags": []
          },
          "execution_count": 10
        },
        {
          "output_type": "display_data",
          "data": {
            "image/png": "[encoded data removed]",
            "text/plain": [
              "<Figure size 432x288 with 1 Axes>"
            ]
          },
          "metadata": {
            "tags": [],
            "needs_background": "light"
          }
        }
      ]
    },
    {
      "cell_type": "code",
      "metadata": {
        "colab": {
          "base_uri": "https://localhost:8080/"
        },
        "id": "8YSWkD5oKuxN",
        "outputId": "2757069f-8b57-4663-9860-e2933e363479"
      },
      "source": [
        "ax=sns.boxplot(dados_tmdb_mais_de_10_votos.vote_average)\r\n",
        "ax.set(xlabel=\"Nota média\")\r\n",
        "ax.set_title(\"Distrtibuição de nota média ds filmes do tmdb 5000 de filmes com mais de 10 votos\")"
      ],
      "execution_count": null,
      "outputs": [
        {
          "output_type": "stream",
          "text": [
            "/usr/local/lib/python3.6/dist-packages/seaborn/_decorators.py:43: FutureWarning: Pass the following variable as a keyword arg: x. From version 0.12, the only valid positional argument will be `data`, and passing other arguments without an explicit keyword will result in an error or misinterpretation.\n",
            "  FutureWarning\n"
          ],
          "name": "stderr"
        },
        {
          "output_type": "execute_result",
          "data": {
            "text/plain": [
              "Text(0.5, 1.0, 'Distrtibuição de nota média ds filmes do tmdb 5000 de filmes com mais de 10 votos')"
            ]
          },
          "metadata": {
            "tags": []
          },
          "execution_count": 11
        },
        {
          "output_type": "display_data",
          "data": {
            "image/png": "[encoded data removed]",
            "text/plain": [
              "<Figure size 432x288 with 1 Axes>"
            ]
          },
          "metadata": {
            "tags": [],
            "needs_background": "light"
          }
        }
      ]
    },
    {
      "cell_type": "markdown",
      "metadata": {
        "id": "9n2L_IsDKfgV"
      },
      "source": [
        "# Densidade de distribuição das notas do tmdb - dados tratados"
      ]
    },
    {
      "cell_type": "code",
      "metadata": {
        "colab": {
          "base_uri": "https://localhost:8080/"
        },
        "id": "4YVf8ILuv4fL",
        "outputId": "ce3e1cda-39ea-4706-fc47-47b3e932d2a2"
      },
      "source": [
        "ax=sns.distplot(dados_tmdb_mais_de_10_votos.vote_average)\r\n",
        "ax.set(xlabel='Nota Média',ylabel=\"Distribuição\")\r\n",
        "ax.set_title(\"Média de Votos tmdb 5000 de filmes com mais de 10 votos\")"
      ],
      "execution_count": null,
      "outputs": [
        {
          "output_type": "stream",
          "text": [
            "/usr/local/lib/python3.6/dist-packages/seaborn/distributions.py:2557: FutureWarning: `distplot` is a deprecated function and will be removed in a future version. Please adapt your code to use either `displot` (a figure-level function with similar flexibility) or `histplot` (an axes-level function for histograms).\n",
            "  warnings.warn(msg, FutureWarning)\n"
          ],
          "name": "stderr"
        },
        {
          "output_type": "execute_result",
          "data": {
            "text/plain": [
              "Text(0.5, 1.0, 'Média de Votos tmdb 5000 de filmes com mais de 10 votos')"
            ]
          },
          "metadata": {
            "tags": []
          },
          "execution_count": 12
        },
        {
          "output_type": "display_data",
          "data": {
            "image/png": "[encoded data removed]",
            "text/plain": [
              "<Figure size 432x288 with 1 Axes>"
            ]
          },
          "metadata": {
            "tags": [],
            "needs_background": "light"
          }
        }
      ]
    },
    {
      "cell_type": "markdown",
      "metadata": {
        "id": "iyNnALSKKoDX"
      },
      "source": [
        "Testando a normalidade dos dados"
      ]
    },
    {
      "cell_type": "code",
      "metadata": {
        "colab": {
          "base_uri": "https://localhost:8080/"
        },
        "id": "Zo6mJZwCf_A7",
        "outputId": "5ff3fa04-9163-4ecb-ef67-7009d23d58e0"
      },
      "source": [
        "from scipy.stats import normaltest\r\n",
        "stat_test,p_valor=normaltest(dados_tmdb_mais_de_10_votos.vote_average)\r\n",
        "print(stat_test)\r\n",
        "print(p_valor) # p_valor é muito baixo, ou seja, não pode-se afirmar que os dados se distribuem de maneira a respeitar a distribuição normal"
      ],
      "execution_count": null,
      "outputs": [
        {
          "output_type": "stream",
          "text": [
            "262.1424436120601\n",
            "1.1925912903829851e-57\n"
          ],
          "name": "stdout"
        }
      ]
    },
    {
      "cell_type": "markdown",
      "metadata": {
        "id": "hZKSSqkUKzVC"
      },
      "source": [
        "# Explorando dados do Movie Lens"
      ]
    },
    {
      "cell_type": "code",
      "metadata": {
        "id": "j7Egw1I-wfo7",
        "colab": {
          "base_uri": "https://localhost:8080/"
        },
        "outputId": "da525795-792c-42fd-cf6c-f2261d64f52a"
      },
      "source": [
        "notas=pd.read_csv(\"/content/drive/My Drive/ratings.csv\")\r\n",
        "notas.head()"
      ],
      "execution_count": null,
      "outputs": [
        {
          "output_type": "execute_result",
          "data": {
            "text/html": [
              "<div>\n",
              "<style scoped>\n",
              "    .dataframe tbody tr th:only-of-type {\n",
              "        vertical-align: middle;\n",
              "    }\n",
              "\n",
              "    .dataframe tbody tr th {\n",
              "        vertical-align: top;\n",
              "    }\n",
              "\n",
              "    .dataframe thead th {\n",
              "        text-align: right;\n",
              "    }\n",
              "</style>\n",
              "<table border=\"1\" class=\"dataframe\">\n",
              "  <thead>\n",
              "    <tr style=\"text-align: right;\">\n",
              "      <th></th>\n",
              "      <th>userId</th>\n",
              "      <th>movieId</th>\n",
              "      <th>rating</th>\n",
              "      <th>timestamp</th>\n",
              "    </tr>\n",
              "  </thead>\n",
              "  <tbody>\n",
              "    <tr>\n",
              "      <th>0</th>\n",
              "      <td>1</td>\n",
              "      <td>1</td>\n",
              "      <td>4.0</td>\n",
              "      <td>964982703</td>\n",
              "    </tr>\n",
              "    <tr>\n",
              "      <th>1</th>\n",
              "      <td>1</td>\n",
              "      <td>3</td>\n",
              "      <td>4.0</td>\n",
              "      <td>964981247</td>\n",
              "    </tr>\n",
              "    <tr>\n",
              "      <th>2</th>\n",
              "      <td>1</td>\n",
              "      <td>6</td>\n",
              "      <td>4.0</td>\n",
              "      <td>964982224</td>\n",
              "    </tr>\n",
              "    <tr>\n",
              "      <th>3</th>\n",
              "      <td>1</td>\n",
              "      <td>47</td>\n",
              "      <td>5.0</td>\n",
              "      <td>964983815</td>\n",
              "    </tr>\n",
              "    <tr>\n",
              "      <th>4</th>\n",
              "      <td>1</td>\n",
              "      <td>50</td>\n",
              "      <td>5.0</td>\n",
              "      <td>964982931</td>\n",
              "    </tr>\n",
              "  </tbody>\n",
              "</table>\n",
              "</div>"
            ],
            "text/plain": [
              "   userId  movieId  rating  timestamp\n",
              "0       1        1     4.0  964982703\n",
              "1       1        3     4.0  964981247\n",
              "2       1        6     4.0  964982224\n",
              "3       1       47     5.0  964983815\n",
              "4       1       50     5.0  964982931"
            ]
          },
          "metadata": {
            "tags": []
          },
          "execution_count": 14
        }
      ]
    },
    {
      "cell_type": "code",
      "metadata": {
        "colab": {
          "base_uri": "https://localhost:8080/"
        },
        "id": "2Fp9llf6WXOF",
        "outputId": "ff5df98f-af0e-4622-ffd1-172fdfeb682f"
      },
      "source": [
        "medias_notas_por_filme=notas.groupby('movieId').rating.mean()\r\n",
        "medias_notas_por_filme.reset_index"
      ],
      "execution_count": null,
      "outputs": [
        {
          "output_type": "execute_result",
          "data": {
            "text/plain": [
              "<bound method Series.reset_index of movieId\n",
              "1         3.920930\n",
              "2         3.431818\n",
              "3         3.259615\n",
              "4         2.357143\n",
              "5         3.071429\n",
              "            ...   \n",
              "193581    4.000000\n",
              "193583    3.500000\n",
              "193585    3.500000\n",
              "193587    3.500000\n",
              "193609    4.000000\n",
              "Name: rating, Length: 9724, dtype: float64>"
            ]
          },
          "metadata": {
            "tags": []
          },
          "execution_count": 15
        }
      ]
    },
    {
      "cell_type": "markdown",
      "metadata": {
        "id": "PxZ8-qodK9uq"
      },
      "source": [
        "# Densidade de distribuição das médias ds notas do movie lens"
      ]
    },
    {
      "cell_type": "code",
      "metadata": {
        "colab": {
          "base_uri": "https://localhost:8080/"
        },
        "id": "KaJD4MmYWuDt",
        "outputId": "0a1ce65b-0d2b-4347-cdb2-996cdbbfcde8"
      },
      "source": [
        "ax=sns.distplot(medias_notas_por_filme)\r\n",
        "ax.set(xlabel='Nota Média',ylabel=\"Distribuição\")\r\n",
        "ax.set_title(\"Média de Votos movie lens\")"
      ],
      "execution_count": null,
      "outputs": [
        {
          "output_type": "stream",
          "text": [
            "/usr/local/lib/python3.6/dist-packages/seaborn/distributions.py:2557: FutureWarning: `distplot` is a deprecated function and will be removed in a future version. Please adapt your code to use either `displot` (a figure-level function with similar flexibility) or `histplot` (an axes-level function for histograms).\n",
            "  warnings.warn(msg, FutureWarning)\n"
          ],
          "name": "stderr"
        },
        {
          "output_type": "execute_result",
          "data": {
            "text/plain": [
              "Text(0.5, 1.0, 'Média de Votos movie lens')"
            ]
          },
          "metadata": {
            "tags": []
          },
          "execution_count": 16
        },
        {
          "output_type": "display_data",
          "data": {
            "image/png": "[encoded data removed]",
            "text/plain": [
              "<Figure size 432x288 with 1 Axes>"
            ]
          },
          "metadata": {
            "tags": [],
            "needs_background": "light"
          }
        }
      ]
    },
    {
      "cell_type": "markdown",
      "metadata": {
        "id": "MvwoDlgSLMaL"
      },
      "source": [
        "# Limpeza dos dados do movie lens"
      ]
    },
    {
      "cell_type": "code",
      "metadata": {
        "id": "VPDIs89AY0gO"
      },
      "source": [
        "quantidade_de_votos_por_filme=notas.groupby('movieId').count()\r\n",
        "filmes_com_pelo_menos_10_votos=quantidade_de_votos_por_filme.query('rating>10').index"
      ],
      "execution_count": null,
      "outputs": []
    },
    {
      "cell_type": "code",
      "metadata": {
        "colab": {
          "base_uri": "https://localhost:8080/"
        },
        "id": "5SFa-JNfaLYr",
        "outputId": "04b76de0-b7d5-4743-f22e-89a2628d55ba"
      },
      "source": [
        "nota_media_pelo_menos_10_votos=medias_notas_por_filme.loc[filmes_com_pelo_menos_10_votos]\r\n",
        "nota_media_pelo_menos_10_votos"
      ],
      "execution_count": null,
      "outputs": [
        {
          "output_type": "execute_result",
          "data": {
            "text/plain": [
              "movieId\n",
              "1         3.920930\n",
              "2         3.431818\n",
              "3         3.259615\n",
              "5         3.071429\n",
              "6         3.946078\n",
              "            ...   \n",
              "174055    3.423077\n",
              "176371    3.805556\n",
              "177765    3.538462\n",
              "179819    3.125000\n",
              "187593    3.875000\n",
              "Name: rating, Length: 2121, dtype: float64"
            ]
          },
          "metadata": {
            "tags": []
          },
          "execution_count": 18
        }
      ]
    },
    {
      "cell_type": "markdown",
      "metadata": {
        "id": "9eMBzsvjLQ0m"
      },
      "source": [
        "# Distribuição das medias dos filmes do movie lens -> dados tratados"
      ]
    },
    {
      "cell_type": "code",
      "metadata": {
        "colab": {
          "base_uri": "https://localhost:8080/"
        },
        "id": "f79uFxMNa71P",
        "outputId": "a607235c-55c7-48ab-a7e8-09ef7cfbd0e0"
      },
      "source": [
        "ax=sns.distplot(nota_media_pelo_menos_10_votos)\r\n",
        "ax.set(xlabel='Nota Média',ylabel=\"Distribuição\")\r\n",
        "ax.set_title(\"Média de Votos movie lens de filmes com pelo menos 10 votos\")"
      ],
      "execution_count": null,
      "outputs": [
        {
          "output_type": "stream",
          "text": [
            "/usr/local/lib/python3.6/dist-packages/seaborn/distributions.py:2557: FutureWarning: `distplot` is a deprecated function and will be removed in a future version. Please adapt your code to use either `displot` (a figure-level function with similar flexibility) or `histplot` (an axes-level function for histograms).\n",
            "  warnings.warn(msg, FutureWarning)\n"
          ],
          "name": "stderr"
        },
        {
          "output_type": "execute_result",
          "data": {
            "text/plain": [
              "Text(0.5, 1.0, 'Média de Votos movie lens de filmes com pelo menos 10 votos')"
            ]
          },
          "metadata": {
            "tags": []
          },
          "execution_count": 19
        },
        {
          "output_type": "display_data",
          "data": {
            "image/png": "[encoded data removed]",
            "text/plain": [
              "<Figure size 432x288 with 1 Axes>"
            ]
          },
          "metadata": {
            "tags": [],
            "needs_background": "light"
          }
        }
      ]
    },
    {
      "cell_type": "code",
      "metadata": {
        "colab": {
          "base_uri": "https://localhost:8080/"
        },
        "id": "0A35onN7bK9L",
        "outputId": "029e2180-b4c7-4f0d-a1e4-537b4e3470e0"
      },
      "source": [
        "ax=sns.boxplot(nota_media_pelo_menos_10_votos)\r\n",
        "ax.set(xlabel=\"Nota média movie lens\")\r\n",
        "ax.set_title(\"Distrtibuição de nota média ds filmes do movie lens de filmes com mais de 10 votos\")"
      ],
      "execution_count": null,
      "outputs": [
        {
          "output_type": "stream",
          "text": [
            "/usr/local/lib/python3.6/dist-packages/seaborn/_decorators.py:43: FutureWarning: Pass the following variable as a keyword arg: x. From version 0.12, the only valid positional argument will be `data`, and passing other arguments without an explicit keyword will result in an error or misinterpretation.\n",
            "  FutureWarning\n"
          ],
          "name": "stderr"
        },
        {
          "output_type": "execute_result",
          "data": {
            "text/plain": [
              "Text(0.5, 1.0, 'Distrtibuição de nota média ds filmes do movie lens de filmes com mais de 10 votos')"
            ]
          },
          "metadata": {
            "tags": []
          },
          "execution_count": 20
        },
        {
          "output_type": "display_data",
          "data": {
            "image/png": "[encoded data removed]",
            "text/plain": [
              "<Figure size 432x288 with 1 Axes>"
            ]
          },
          "metadata": {
            "tags": [],
            "needs_background": "light"
          }
        }
      ]
    },
    {
      "cell_type": "markdown",
      "metadata": {
        "id": "cF6D8GCkLYKu"
      },
      "source": [
        "# Distribuição acumulada da nota média dos filmes do movie lens"
      ]
    },
    {
      "cell_type": "code",
      "metadata": {
        "colab": {
          "base_uri": "https://localhost:8080/"
        },
        "id": "kAayW5PnbiId",
        "outputId": "12c6d51f-ceaf-4c02-dc7a-e581d6681827"
      },
      "source": [
        "ax=sns.distplot(nota_media_pelo_menos_10_votos,hist_kws={'cumulative':True},\r\n",
        "                                            kde_kws={'cumulative':True})\r\n",
        "ax.set(xlabel='Nota Média',ylabel=\"Distribuição\")\r\n",
        "ax.set_title(\"Média de Votos movie lens de filmes com pelo menos 10 votos\")"
      ],
      "execution_count": null,
      "outputs": [
        {
          "output_type": "stream",
          "text": [
            "/usr/local/lib/python3.6/dist-packages/seaborn/distributions.py:2557: FutureWarning: `distplot` is a deprecated function and will be removed in a future version. Please adapt your code to use either `displot` (a figure-level function with similar flexibility) or `histplot` (an axes-level function for histograms).\n",
            "  warnings.warn(msg, FutureWarning)\n"
          ],
          "name": "stderr"
        },
        {
          "output_type": "execute_result",
          "data": {
            "text/plain": [
              "Text(0.5, 1.0, 'Média de Votos movie lens de filmes com pelo menos 10 votos')"
            ]
          },
          "metadata": {
            "tags": []
          },
          "execution_count": 21
        },
        {
          "output_type": "display_data",
          "data": {
            "image/png": "[encoded data removed]",
            "text/plain": [
              "<Figure size 432x288 with 1 Axes>"
            ]
          },
          "metadata": {
            "tags": [],
            "needs_background": "light"
          }
        }
      ]
    },
    {
      "cell_type": "code",
      "metadata": {
        "colab": {
          "base_uri": "https://localhost:8080/"
        },
        "id": "cXLAU9jschUs",
        "outputId": "6b5168ef-3316-4655-d432-553884fa7c46"
      },
      "source": [
        "dados_tmdb_mais_de_10_votos.vote_count"
      ],
      "execution_count": null,
      "outputs": [
        {
          "output_type": "execute_result",
          "data": {
            "text/plain": [
              "0       11800\n",
              "1        4500\n",
              "2        4466\n",
              "3        9106\n",
              "4        2124\n",
              "        ...  \n",
              "4798      238\n",
              "4799        5\n",
              "4800        6\n",
              "4801        7\n",
              "4802       16\n",
              "Name: vote_count, Length: 4558, dtype: int64"
            ]
          },
          "metadata": {
            "tags": []
          },
          "execution_count": 22
        }
      ]
    },
    {
      "cell_type": "markdown",
      "metadata": {
        "id": "dDdZx9gXLicp"
      },
      "source": [
        "# Densidade de distribuição do total de votos por filme do TMDB"
      ]
    },
    {
      "cell_type": "code",
      "metadata": {
        "colab": {
          "base_uri": "https://localhost:8080/"
        },
        "id": "Dwb9Ei04dhyo",
        "outputId": "5ba1536e-ada6-48f1-f565-d974599f6631"
      },
      "source": [
        "ax=sns.distplot(dados_tmdb_mais_de_10_votos.vote_count)\r\n",
        "ax.set(xlabel='Nota Média',ylabel=\"Densidade\")\r\n",
        "ax.set_title(\"Nº de votos de filmes do tmdb com pelo menos 10 votos\")"
      ],
      "execution_count": null,
      "outputs": [
        {
          "output_type": "stream",
          "text": [
            "/usr/local/lib/python3.6/dist-packages/seaborn/distributions.py:2557: FutureWarning: `distplot` is a deprecated function and will be removed in a future version. Please adapt your code to use either `displot` (a figure-level function with similar flexibility) or `histplot` (an axes-level function for histograms).\n",
            "  warnings.warn(msg, FutureWarning)\n"
          ],
          "name": "stderr"
        },
        {
          "output_type": "execute_result",
          "data": {
            "text/plain": [
              "Text(0.5, 1.0, 'Nº de votos de filmes do tmdb com pelo menos 10 votos')"
            ]
          },
          "metadata": {
            "tags": []
          },
          "execution_count": 23
        },
        {
          "output_type": "display_data",
          "data": {
            "image/png": "[encoded data removed]",
            "text/plain": [
              "<Figure size 432x288 with 1 Axes>"
            ]
          },
          "metadata": {
            "tags": [],
            "needs_background": "light"
          }
        }
      ]
    },
    {
      "cell_type": "markdown",
      "metadata": {
        "id": "OWgU0pyNLtwb"
      },
      "source": [
        "# Densidade de distribuição do orçamentos dos filmes do TMDB"
      ]
    },
    {
      "cell_type": "code",
      "metadata": {
        "colab": {
          "base_uri": "https://localhost:8080/"
        },
        "id": "9K3HDFSPd-Ye",
        "outputId": "18c136e9-cfeb-4c7d-c1f5-4834e76f355f"
      },
      "source": [
        "ax=sns.distplot(dados_tmdb.query('budget>0').budget)\r\n",
        "ax.set(xlabel='Orçamento (10^8)',ylabel=\"Densidade\")\r\n",
        "ax.set_title(\"Orçamento dos filmes\")"
      ],
      "execution_count": null,
      "outputs": [
        {
          "output_type": "stream",
          "text": [
            "/usr/local/lib/python3.6/dist-packages/seaborn/distributions.py:2557: FutureWarning: `distplot` is a deprecated function and will be removed in a future version. Please adapt your code to use either `displot` (a figure-level function with similar flexibility) or `histplot` (an axes-level function for histograms).\n",
            "  warnings.warn(msg, FutureWarning)\n"
          ],
          "name": "stderr"
        },
        {
          "output_type": "execute_result",
          "data": {
            "text/plain": [
              "Text(0.5, 1.0, 'Orçamento dos filmes')"
            ]
          },
          "metadata": {
            "tags": []
          },
          "execution_count": 24
        },
        {
          "output_type": "display_data",
          "data": {
            "image/png": "[encoded data removed]",
            "text/plain": [
              "<Figure size 432x288 with 1 Axes>"
            ]
          },
          "metadata": {
            "tags": [],
            "needs_background": "light"
          }
        }
      ]
    },
    {
      "cell_type": "markdown",
      "metadata": {
        "id": "yvIEk_5WL0Zd"
      },
      "source": [
        "# Densidade de distribuição popularidade dos filmes do TMDB"
      ]
    },
    {
      "cell_type": "code",
      "metadata": {
        "colab": {
          "base_uri": "https://localhost:8080/"
        },
        "id": "_9K_VQFDeobu",
        "outputId": "8d9988dc-780a-4272-9054-77d5e4dcaa15"
      },
      "source": [
        "ax=sns.distplot(dados_tmdb.popularity)\r\n",
        "ax.set(xlabel='Popularidade',ylabel=\"Densidade\")\r\n",
        "ax.set_title(\"Popularidade dos filmes\")"
      ],
      "execution_count": null,
      "outputs": [
        {
          "output_type": "stream",
          "text": [
            "/usr/local/lib/python3.6/dist-packages/seaborn/distributions.py:2557: FutureWarning: `distplot` is a deprecated function and will be removed in a future version. Please adapt your code to use either `displot` (a figure-level function with similar flexibility) or `histplot` (an axes-level function for histograms).\n",
            "  warnings.warn(msg, FutureWarning)\n"
          ],
          "name": "stderr"
        },
        {
          "output_type": "execute_result",
          "data": {
            "text/plain": [
              "Text(0.5, 1.0, 'Popularidade dos filmes')"
            ]
          },
          "metadata": {
            "tags": []
          },
          "execution_count": 25
        },
        {
          "output_type": "display_data",
          "data": {
            "image/png": "[encoded data removed]",
            "text/plain": [
              "<Figure size 432x288 with 1 Axes>"
            ]
          },
          "metadata": {
            "tags": [],
            "needs_background": "light"
          }
        }
      ]
    },
    {
      "cell_type": "markdown",
      "metadata": {
        "id": "FiQW2ypvMK8P"
      },
      "source": [
        "# Densidade de distribuição do tempo de duração dos filmes do TMDB"
      ]
    },
    {
      "cell_type": "code",
      "metadata": {
        "colab": {
          "base_uri": "https://localhost:8080/"
        },
        "id": "_LDTr0HEfgVa",
        "outputId": "b001a3c5-1ca9-4bd1-a0ce-fbf0e707e364"
      },
      "source": [
        "# dados_tmdb.runtime.isnull()\r\n",
        "dados_runtime_tratedos=dados_tmdb.query('runtime>0').runtime.dropna()\r\n",
        "ax=sns.distplot(dados_runtime_tratedos)\r\n",
        "ax.set(xlabel='Tempo de duração',ylabel=\"Densidade\")\r\n",
        "ax.set_title(\"Duração dos filmes\")"
      ],
      "execution_count": null,
      "outputs": [
        {
          "output_type": "stream",
          "text": [
            "/usr/local/lib/python3.6/dist-packages/seaborn/distributions.py:2557: FutureWarning: `distplot` is a deprecated function and will be removed in a future version. Please adapt your code to use either `displot` (a figure-level function with similar flexibility) or `histplot` (an axes-level function for histograms).\n",
            "  warnings.warn(msg, FutureWarning)\n"
          ],
          "name": "stderr"
        },
        {
          "output_type": "execute_result",
          "data": {
            "text/plain": [
              "Text(0.5, 1.0, 'Duração dos filmes')"
            ]
          },
          "metadata": {
            "tags": []
          },
          "execution_count": 26
        },
        {
          "output_type": "display_data",
          "data": {
            "image/png": "[encoded data removed]",
            "text/plain": [
              "<Figure size 432x288 with 1 Axes>"
            ]
          },
          "metadata": {
            "tags": [],
            "needs_background": "light"
          }
        }
      ]
    },
    {
      "cell_type": "markdown",
      "metadata": {
        "id": "cRoP7mWRMVQD"
      },
      "source": [
        "# Discussão sobre teorema do limite central e utilização do teste-t"
      ]
    },
    {
      "cell_type": "code",
      "metadata": {
        "id": "758Ui_cif5A_",
        "colab": {
          "base_uri": "https://localhost:8080/"
        },
        "outputId": "66f28331-55da-41c5-d663-d9410e40e098"
      },
      "source": [
        "#média dos votos dos filmes com pelo menos 10 votos\r\n",
        "nota_media_pelo_menos_10_votos.mean()"
      ],
      "execution_count": null,
      "outputs": [
        {
          "output_type": "execute_result",
          "data": {
            "text/plain": [
              "3.4438105717465843"
            ]
          },
          "metadata": {
            "tags": []
          },
          "execution_count": 27
        }
      ]
    },
    {
      "cell_type": "code",
      "metadata": {
        "colab": {
          "base_uri": "https://localhost:8080/"
        },
        "id": "4oni87q9ZM0X",
        "outputId": "5c803216-ae74-4249-f8c7-aa4d3515b182"
      },
      "source": [
        "from scipy.stats import normaltest\r\n",
        "stat_test,p_valor=normaltest(nota_media_pelo_menos_10_votos)\r\n",
        "print(stat_test)\r\n",
        "print(p_valor) # p_valor é muito baixo, ou seja, não pode-se afirmar que os dados se distribuem de maneira a respeitar a distribuição normal"
      ],
      "execution_count": null,
      "outputs": [
        {
          "output_type": "stream",
          "text": [
            "136.27131503713488\n",
            "2.5648378782227156e-30\n"
          ],
          "name": "stdout"
        }
      ]
    },
    {
      "cell_type": "code",
      "metadata": {
        "colab": {
          "base_uri": "https://localhost:8080/"
        },
        "id": "b7nv0Q_5jmp9",
        "outputId": "b4393ddc-b77b-4d75-9113-d689f30ef156"
      },
      "source": [
        "from statsmodels.stats.weightstats import zconfint\r\n",
        "\r\n",
        "zconfint(nota_media_pelo_menos_10_votos)"
      ],
      "execution_count": null,
      "outputs": [
        {
          "output_type": "stream",
          "text": [
            "/usr/local/lib/python3.6/dist-packages/statsmodels/tools/_testing.py:19: FutureWarning: pandas.util.testing is deprecated. Use the functions in the public API at pandas.testing instead.\n",
            "  import pandas.util.testing as tm\n"
          ],
          "name": "stderr"
        },
        {
          "output_type": "execute_result",
          "data": {
            "text/plain": [
              "(3.422668132218516, 3.464953011274652)"
            ]
          },
          "metadata": {
            "tags": []
          },
          "execution_count": 29
        }
      ]
    },
    {
      "cell_type": "markdown",
      "metadata": {
        "id": "giXx24hBXkPb"
      },
      "source": [
        "O mais certo é construir instervalo de confiança utilizando o ttest, uma vez que a amostra não se distribui de maneira normal"
      ]
    },
    {
      "cell_type": "code",
      "metadata": {
        "colab": {
          "base_uri": "https://localhost:8080/"
        },
        "id": "IR6fh1SarQOT",
        "outputId": "f8bac142-029f-44ff-f9b0-04afe3100332"
      },
      "source": [
        "from statsmodels.stats.weightstats import DescrStatsW\r\n",
        "descr_todos_com_10_votos=DescrStatsW(nota_media_pelo_menos_10_votos)\r\n",
        "descr_todos_com_10_votos.tconfint_mean()"
      ],
      "execution_count": null,
      "outputs": [
        {
          "output_type": "execute_result",
          "data": {
            "text/plain": [
              "(3.4226560546570113, 3.4649650888361565)"
            ]
          },
          "metadata": {
            "tags": []
          },
          "execution_count": 30
        }
      ]
    },
    {
      "cell_type": "markdown",
      "metadata": {
        "id": "BBFK6VrBYDHg"
      },
      "source": [
        " Visualizando dados"
      ]
    },
    {
      "cell_type": "code",
      "metadata": {
        "id": "Faftqq4Drjl4"
      },
      "source": [
        "filmes=pd.read_csv(\"/content/drive/My Drive/movies.csv\")\r\n",
        "filmes.head()"
      ],
      "execution_count": null,
      "outputs": []
    },
    {
      "cell_type": "code",
      "metadata": {
        "id": "Cw7v06gqbUBD"
      },
      "source": [
        "notas_toy_story=notas.query('movieId==1')\r\n",
        "notas_toy_story.head()"
      ],
      "execution_count": null,
      "outputs": []
    },
    {
      "cell_type": "code",
      "metadata": {
        "colab": {
          "base_uri": "https://localhost:8080/",
          "height": 367
        },
        "id": "FZMd1lr9brqf",
        "outputId": "df68449b-197d-4b57-aac2-d36e6f53318c"
      },
      "source": [
        "ax=sns.distplot(notas_toy_story.rating)\r\n",
        "ax.set(xlabel='Notas',ylabel=\"Densidade\")\r\n",
        "ax.set_title(\"Distribuição notas Toy Story\")"
      ],
      "execution_count": null,
      "outputs": [
        {
          "output_type": "stream",
          "text": [
            "/usr/local/lib/python3.6/dist-packages/seaborn/distributions.py:2557: FutureWarning: `distplot` is a deprecated function and will be removed in a future version. Please adapt your code to use either `displot` (a figure-level function with similar flexibility) or `histplot` (an axes-level function for histograms).\n",
            "  warnings.warn(msg, FutureWarning)\n"
          ],
          "name": "stderr"
        },
        {
          "output_type": "execute_result",
          "data": {
            "text/plain": [
              "Text(0.5, 1.0, 'Distribuição notas Toy Story')"
            ]
          },
          "metadata": {
            "tags": []
          },
          "execution_count": 33
        },
        {
          "output_type": "display_data",
          "data": {
            "image/png": "[encoded data removed]",
            "text/plain": [
              "<Figure size 432x288 with 1 Axes>"
            ]
          },
          "metadata": {
            "tags": [],
            "needs_background": "light"
          }
        }
      ]
    },
    {
      "cell_type": "code",
      "metadata": {
        "colab": {
          "base_uri": "https://localhost:8080/",
          "height": 367
        },
        "id": "UrhQJ-DdcB3p",
        "outputId": "22276438-4fde-40f7-b699-c1c5a3e75ec8"
      },
      "source": [
        "ax=sns.boxplot(notas_toy_story.rating)\r\n",
        "ax.set(xlabel=\"Notas\")\r\n",
        "ax.set_title(\"Distribuição das notas Toy Story\")"
      ],
      "execution_count": null,
      "outputs": [
        {
          "output_type": "stream",
          "text": [
            "/usr/local/lib/python3.6/dist-packages/seaborn/_decorators.py:43: FutureWarning: Pass the following variable as a keyword arg: x. From version 0.12, the only valid positional argument will be `data`, and passing other arguments without an explicit keyword will result in an error or misinterpretation.\n",
            "  FutureWarning\n"
          ],
          "name": "stderr"
        },
        {
          "output_type": "execute_result",
          "data": {
            "text/plain": [
              "Text(0.5, 1.0, 'Distribuição das notas Toy Story')"
            ]
          },
          "metadata": {
            "tags": []
          },
          "execution_count": 34
        },
        {
          "output_type": "display_data",
          "data": {
            "image/png": "[encoded data removed]",
            "text/plain": [
              "<Figure size 432x288 with 1 Axes>"
            ]
          },
          "metadata": {
            "tags": [],
            "needs_background": "light"
          }
        }
      ]
    },
    {
      "cell_type": "markdown",
      "metadata": {
        "id": "qj0JRkVxYOUj"
      },
      "source": [
        " Comparando médias e testando o teorema do limte central"
      ]
    },
    {
      "cell_type": "code",
      "metadata": {
        "colab": {
          "base_uri": "https://localhost:8080/"
        },
        "id": "r6GgKFb2cknZ",
        "outputId": "28294d4b-9a84-49bb-b220-edca9295e18d"
      },
      "source": [
        "from statsmodels.stats.weightstats import zconfint\r\n",
        "\r\n",
        "zconfint(notas_toy_story.rating)"
      ],
      "execution_count": null,
      "outputs": [
        {
          "output_type": "execute_result",
          "data": {
            "text/plain": [
              "(3.8093359183563402, 4.032524546759939)"
            ]
          },
          "metadata": {
            "tags": []
          },
          "execution_count": 35
        }
      ]
    },
    {
      "cell_type": "code",
      "metadata": {
        "colab": {
          "base_uri": "https://localhost:8080/"
        },
        "id": "51S_ReXOdcOS",
        "outputId": "491dac40-383a-4e82-c8e3-7c5d6c76e56b"
      },
      "source": [
        "from statsmodels.stats.weightstats import ztest\r\n",
        "\r\n",
        "ztest(notas_toy_story.rating, value=3.4438105717465843)\r\n",
        "\r\n",
        "# como p_value é menor que 0.05, descartamos a possibilidade da amostra de filmes de toy story\r\n",
        "# ter a mesma média de todos os film"
      ],
      "execution_count": null,
      "outputs": [
        {
          "output_type": "execute_result",
          "data": {
            "text/plain": [
              "(8.379793882827906, 5.3020470490105326e-17)"
            ]
          },
          "metadata": {
            "tags": []
          },
          "execution_count": 36
        }
      ]
    },
    {
      "cell_type": "code",
      "metadata": {
        "colab": {
          "base_uri": "https://localhost:8080/",
          "height": 317
        },
        "id": "HNt_2hX0eP2f",
        "outputId": "2ce8b631-e241-4593-b8d4-6f273c6869a2"
      },
      "source": [
        "import numpy as np\r\n",
        "import matplotlib.pyplot as plt\r\n",
        "\r\n",
        "np.random.seed(75241)\r\n",
        "temp=notas_toy_story.sample(frac=1).rating\r\n",
        "\r\n",
        "def calcula_teste(i):\r\n",
        "  media=temp[0:i].mean()\r\n",
        "  _,p_valor=ztest(temp[0:i], value=3.4438105717465843)\r\n",
        "  return (media,p_valor)\r\n",
        "\r\n",
        "medias=np.array([calcula_teste(i) for i in range(1,len(temp))])\r\n",
        "\r\n",
        "df=pd.DataFrame(medias)\r\n",
        "df\r\n",
        "plt.plot(df.index,df[1])\r\n",
        "plt.plot(df.index,df[0])\r\n",
        "plt.hlines(y=0.05,xmin=2,xmax=df.shape[0],colors='r')\r\n",
        "#Insights\r\n",
        "# caso tivesse pegado uma a amostra pequena, p_valor daria pequeno e eu poderia assumir\r\n",
        "# um dado de média errado\r\n",
        "# ou seja, para amostras pequenas, poderia-se afirmar que as médias são similares\r\n",
        "\r\n",
        "# ao coletar mais amostras, vemos que o p_valor diminui\r\n",
        "# a média de aproxima da média da população\r\n",
        "# assim, descartamos a hipotese das médias serem similares\r\n"
      ],
      "execution_count": null,
      "outputs": [
        {
          "output_type": "stream",
          "text": [
            "/usr/local/lib/python3.6/dist-packages/statsmodels/stats/weightstats.py:1373: RuntimeWarning: invalid value encountered in double_scalars\n",
            "  var_pooled = x1_var / (nobs1 - ddof)\n"
          ],
          "name": "stderr"
        },
        {
          "output_type": "execute_result",
          "data": {
            "text/plain": [
              "<matplotlib.collections.LineCollection at 0x7effd2b554e0>"
            ]
          },
          "metadata": {
            "tags": []
          },
          "execution_count": 37
        },
        {
          "output_type": "display_data",
          "data": {
            "image/png": "[encoded data removed]",
            "text/plain": [
              "<Figure size 432x288 with 1 Axes>"
            ]
          },
          "metadata": {
            "tags": [],
            "needs_background": "light"
          }
        }
      ]
    },
    {
      "cell_type": "markdown",
      "metadata": {
        "id": "qJNkX_EoZlHB"
      },
      "source": [
        "Os dados de médias só assumem distribuição nomal a partir da amostragem de número 160"
      ]
    },
    {
      "cell_type": "code",
      "metadata": {
        "id": "LpshyfDffd6O",
        "colab": {
          "base_uri": "https://localhost:8080/"
        },
        "outputId": "9e864327-bff6-471d-f6d3-b77a2a46c42a"
      },
      "source": [
        "from scipy.stats import normaltest\r\n",
        "stat_test,p_valor=normaltest(df[0].loc[161:])\r\n",
        "print(stat_test)\r\n",
        "print(p_valor)\r\n",
        "print(p_valor>0.05)"
      ],
      "execution_count": null,
      "outputs": [
        {
          "output_type": "stream",
          "text": [
            "5.980475452767454\n",
            "0.05027548349396799\n",
            "True\n"
          ],
          "name": "stdout"
        }
      ]
    },
    {
      "cell_type": "markdown",
      "metadata": {
        "id": "DckSuXDKaDvF"
      },
      "source": [
        "## Estabelecendo intervalo de confiança a partir de uma média"
      ]
    },
    {
      "cell_type": "code",
      "metadata": {
        "id": "xykCgt3tPNbY",
        "colab": {
          "base_uri": "https://localhost:8080/"
        },
        "outputId": "2d85c453-f3b2-4663-bbc2-b265593ec7ad"
      },
      "source": [
        "_,p_valor=ztest(notas_toy_story.rating,notas.rating)\r\n",
        "print(p_valor)\r\n",
        "zconfint(notas_toy_story.rating,notas.rating)\r\n",
        "# print(medias_notas_por_filme)\r\n",
        "# toy story tem uma média entre 0.27 vezes a media das notas e 0.55 vezes a media das notas"
      ],
      "execution_count": null,
      "outputs": [
        {
          "output_type": "stream",
          "text": [
            "3.762112778881965e-09\n"
          ],
          "name": "stdout"
        },
        {
          "output_type": "execute_result",
          "data": {
            "text/plain": [
              "(0.2799245129192442, 0.5588219849631111)"
            ]
          },
          "metadata": {
            "tags": []
          },
          "execution_count": 48
        }
      ]
    },
    {
      "cell_type": "markdown",
      "metadata": {
        "id": "WagoJiLLaQ0A"
      },
      "source": [
        "## Comparando as médias"
      ]
    },
    {
      "cell_type": "code",
      "metadata": {
        "colab": {
          "base_uri": "https://localhost:8080/",
          "height": 70
        },
        "id": "juz4BDzPGIbM",
        "outputId": "cf1c2692-10a6-4d5d-b90c-cdb0dea9e73d"
      },
      "source": [
        "descr_todas_as_notas=DescrStatsW(notas.rating)\r\n",
        "descr_toystory=DescrStatsW(notas_toy_story.rating)\r\n",
        "comparacao=descr_todas_as_notas.get_compare(descr_toystory)\r\n",
        "comparacao.summary(use_t=False)"
      ],
      "execution_count": null,
      "outputs": [
        {
          "output_type": "execute_result",
          "data": {
            "text/html": [
              "<table class=\"simpletable\">\n",
              "<caption>Test for equality of means</caption>\n",
              "<tr>\n",
              "      <td></td>         <th>coef</th>     <th>std err</th>      <th>z</th>      <th>P>|z|</th>  <th>[0.025</th>    <th>0.975]</th>  \n",
              "</tr>\n",
              "<tr>\n",
              "  <th>subset #1</th> <td>   -0.4194</td> <td>    0.071</td> <td>   -5.894</td> <td> 0.000</td> <td>   -0.559</td> <td>   -0.280</td>\n",
              "</tr>\n",
              "</table>"
            ],
            "text/plain": [
              "<class 'statsmodels.iolib.table.SimpleTable'>"
            ]
          },
          "metadata": {
            "tags": []
          },
          "execution_count": 51
        }
      ]
    },
    {
      "cell_type": "code",
      "metadata": {
        "colab": {
          "base_uri": "https://localhost:8080/",
          "height": 70
        },
        "id": "Jhgsjbl_JFKH",
        "outputId": "f479685b-544f-43c5-ef79-9acb5d029ef5"
      },
      "source": [
        "comparacao.summary(use_t=True)"
      ],
      "execution_count": null,
      "outputs": [
        {
          "output_type": "execute_result",
          "data": {
            "text/html": [
              "<table class=\"simpletable\">\n",
              "<caption>Test for equality of means</caption>\n",
              "<tr>\n",
              "      <td></td>         <th>coef</th>     <th>std err</th>      <th>t</th>      <th>P>|t|</th>  <th>[0.025</th>    <th>0.975]</th>  \n",
              "</tr>\n",
              "<tr>\n",
              "  <th>subset #1</th> <td>   -0.4194</td> <td>    0.071</td> <td>   -5.894</td> <td> 0.000</td> <td>   -0.559</td> <td>   -0.280</td>\n",
              "</tr>\n",
              "</table>"
            ],
            "text/plain": [
              "<class 'statsmodels.iolib.table.SimpleTable'>"
            ]
          },
          "metadata": {
            "tags": []
          },
          "execution_count": 50
        }
      ]
    },
    {
      "cell_type": "code",
      "metadata": {
        "colab": {
          "base_uri": "https://localhost:8080/",
          "height": 354
        },
        "id": "6DrWWTAZJUsP",
        "outputId": "5fb0977f-2664-45a9-ce71-18e9b9d2284b"
      },
      "source": [
        "import matplotlib.pyplot as plt\r\n",
        "\r\n",
        "plt.boxplot([notas.rating,notas_toy_story.rating],\r\n",
        "            labels=[\"todas as notas\",\"notas toy story\"])\r\n",
        "plt.title(\"Distribuição das notas dos filmes\")\r\n"
      ],
      "execution_count": null,
      "outputs": [
        {
          "output_type": "stream",
          "text": [
            "/usr/local/lib/python3.6/dist-packages/numpy/core/_asarray.py:83: VisibleDeprecationWarning: Creating an ndarray from ragged nested sequences (which is a list-or-tuple of lists-or-tuples-or ndarrays with different lengths or shapes) is deprecated. If you meant to do this, you must specify 'dtype=object' when creating the ndarray\n",
            "  return array(a, dtype, copy=False, order=order)\n"
          ],
          "name": "stderr"
        },
        {
          "output_type": "execute_result",
          "data": {
            "text/plain": [
              "Text(0.5, 1.0, 'Distribuição das notas dos filmes')"
            ]
          },
          "metadata": {
            "tags": []
          },
          "execution_count": 83
        },
        {
          "output_type": "display_data",
          "data": {
            "image/png": "[encoded data removed]",
            "text/plain": [
              "<Figure size 432x288 with 1 Axes>"
            ]
          },
          "metadata": {
            "tags": [],
            "needs_background": "light"
          }
        }
      ]
    },
    {
      "cell_type": "markdown",
      "metadata": {
        "id": "eo49NFWgdQch"
      },
      "source": [
        "Mais uma vez demonstrando a importancia do tamanho da amostra.\r\n",
        "Ao fatiar os dados das notas do toy story, trazendo assim somente 9 dados, poderíamos nos confundir em achar que as médias são compraráveis."
      ]
    },
    {
      "cell_type": "code",
      "metadata": {
        "colab": {
          "base_uri": "https://localhost:8080/",
          "height": 336
        },
        "id": "BFXxlcAxJ3_G",
        "outputId": "f303dbc4-2a6f-4ce5-eaf0-243e18876f1b"
      },
      "source": [
        "import matplotlib.pyplot as plt\r\n",
        "\r\n",
        "plt.boxplot([notas.rating,notas_toy_story[3:12].rating],\r\n",
        "            labels=[\"todas as notas\",\"notas toy story\"])\r\n",
        "plt.title(\"Distrribuiçlão das notas dos filmes\")"
      ],
      "execution_count": null,
      "outputs": [
        {
          "output_type": "stream",
          "text": [
            "/usr/local/lib/python3.6/dist-packages/numpy/core/_asarray.py:83: VisibleDeprecationWarning: Creating an ndarray from ragged nested sequences (which is a list-or-tuple of lists-or-tuples-or ndarrays with different lengths or shapes) is deprecated. If you meant to do this, you must specify 'dtype=object' when creating the ndarray\n",
            "  return array(a, dtype, copy=False, order=order)\n"
          ],
          "name": "stderr"
        },
        {
          "output_type": "display_data",
          "data": {
            "image/png": "[encoded data removed]",
            "text/plain": [
              "<Figure size 432x288 with 1 Axes>"
            ]
          },
          "metadata": {
            "tags": [],
            "needs_background": "light"
          }
        }
      ]
    },
    {
      "cell_type": "code",
      "metadata": {
        "colab": {
          "base_uri": "https://localhost:8080/"
        },
        "id": "b8dix1P1dzSa",
        "outputId": "92a4df6c-ccdf-41ef-80ee-f9b2bcd12bbb"
      },
      "source": [
        "descr_fatia_toystory=DescrStatsW(notas_toy_story[3:12].rating)\r\n",
        "comparacao=descr_todas_as_notas.get_compare(descr_fatia_toystory)\r\n",
        "df=pd.DataFrame(comparacao.summary())\r\n",
        "print(df[4].loc[1])\r\n"
      ],
      "execution_count": null,
      "outputs": [
        {
          "output_type": "stream",
          "text": [
            " 0.877\n"
          ],
          "name": "stdout"
        }
      ]
    },
    {
      "cell_type": "code",
      "metadata": {
        "colab": {
          "base_uri": "https://localhost:8080/",
          "height": 137
        },
        "id": "XgwTOq1EKfl9",
        "outputId": "714b2c6f-5d37-4802-b21e-60263c5c2dea"
      },
      "source": [
        "filmes.query(\"movieId in [1,593,72226]\")"
      ],
      "execution_count": null,
      "outputs": [
        {
          "output_type": "execute_result",
          "data": {
            "text/html": [
              "<div>\n",
              "<style scoped>\n",
              "    .dataframe tbody tr th:only-of-type {\n",
              "        vertical-align: middle;\n",
              "    }\n",
              "\n",
              "    .dataframe tbody tr th {\n",
              "        vertical-align: top;\n",
              "    }\n",
              "\n",
              "    .dataframe thead th {\n",
              "        text-align: right;\n",
              "    }\n",
              "</style>\n",
              "<table border=\"1\" class=\"dataframe\">\n",
              "  <thead>\n",
              "    <tr style=\"text-align: right;\">\n",
              "      <th></th>\n",
              "      <th>movieId</th>\n",
              "      <th>title</th>\n",
              "      <th>genres</th>\n",
              "    </tr>\n",
              "  </thead>\n",
              "  <tbody>\n",
              "    <tr>\n",
              "      <th>0</th>\n",
              "      <td>1</td>\n",
              "      <td>Toy Story (1995)</td>\n",
              "      <td>Adventure|Animation|Children|Comedy|Fantasy</td>\n",
              "    </tr>\n",
              "    <tr>\n",
              "      <th>510</th>\n",
              "      <td>593</td>\n",
              "      <td>Silence of the Lambs, The (1991)</td>\n",
              "      <td>Crime|Horror|Thriller</td>\n",
              "    </tr>\n",
              "    <tr>\n",
              "      <th>7180</th>\n",
              "      <td>72226</td>\n",
              "      <td>Fantastic Mr. Fox (2009)</td>\n",
              "      <td>Adventure|Animation|Children|Comedy|Crime</td>\n",
              "    </tr>\n",
              "  </tbody>\n",
              "</table>\n",
              "</div>"
            ],
            "text/plain": [
              "      movieId  ...                                       genres\n",
              "0           1  ...  Adventure|Animation|Children|Comedy|Fantasy\n",
              "510       593  ...                        Crime|Horror|Thriller\n",
              "7180    72226  ...    Adventure|Animation|Children|Comedy|Crime\n",
              "\n",
              "[3 rows x 3 columns]"
            ]
          },
          "metadata": {
            "tags": []
          },
          "execution_count": 58
        }
      ]
    },
    {
      "cell_type": "code",
      "metadata": {
        "colab": {
          "base_uri": "https://localhost:8080/",
          "height": 354
        },
        "id": "JJlbc48LMYzt",
        "outputId": "6680c2f6-303c-4221-a437-3969c1a36b69"
      },
      "source": [
        "notas593=notas.query(\"movieId==593\")\r\n",
        "notas1=notas.query(\"movieId==1\")\r\n",
        "notas72226=notas.query(\"movieId==72226\")\r\n",
        "\r\n",
        "import matplotlib.pyplot as plt\r\n",
        "\r\n",
        "plt.boxplot([notas593.rating,notas1.rating,notas72226.rating],\r\n",
        "            labels=[\"Silencio dos inocentes\",\"Toy Story\",\"Fantastic Mr Fox\"])\r\n",
        "plt.title(\"Distrribuiçlão das notas dos filmes\")"
      ],
      "execution_count": null,
      "outputs": [
        {
          "output_type": "stream",
          "text": [
            "/usr/local/lib/python3.6/dist-packages/numpy/core/_asarray.py:83: VisibleDeprecationWarning: Creating an ndarray from ragged nested sequences (which is a list-or-tuple of lists-or-tuples-or ndarrays with different lengths or shapes) is deprecated. If you meant to do this, you must specify 'dtype=object' when creating the ndarray\n",
            "  return array(a, dtype, copy=False, order=order)\n"
          ],
          "name": "stderr"
        },
        {
          "output_type": "execute_result",
          "data": {
            "text/plain": [
              "Text(0.5, 1.0, 'Distrribuiçlão das notas dos filmes')"
            ]
          },
          "metadata": {
            "tags": []
          },
          "execution_count": 63
        },
        {
          "output_type": "display_data",
          "data": {
            "image/png": "[encoded data removed]",
            "text/plain": [
              "<Figure size 432x288 with 1 Axes>"
            ]
          },
          "metadata": {
            "tags": [],
            "needs_background": "light"
          }
        }
      ]
    },
    {
      "cell_type": "code",
      "metadata": {
        "colab": {
          "base_uri": "https://localhost:8080/",
          "height": 296
        },
        "id": "hIr-Gb0oM6lv",
        "outputId": "228549b8-35df-4195-9d81-91f70d611d89"
      },
      "source": [
        "import seaborn as sns\r\n",
        "\r\n",
        "sns.boxplot(x=\"movieId\",y=\"rating\",data=notas.query(\"movieId in (1,593,72226)\"))"
      ],
      "execution_count": null,
      "outputs": [
        {
          "output_type": "execute_result",
          "data": {
            "text/plain": [
              "<matplotlib.axes._subplots.AxesSubplot at 0x7effc1ba3588>"
            ]
          },
          "metadata": {
            "tags": []
          },
          "execution_count": 66
        },
        {
          "output_type": "display_data",
          "data": {
            "image/png": "[encoded data removed]",
            "text/plain": [
              "<Figure size 432x288 with 1 Axes>"
            ]
          },
          "metadata": {
            "tags": [],
            "needs_background": "light"
          }
        }
      ]
    },
    {
      "cell_type": "code",
      "metadata": {
        "colab": {
          "base_uri": "https://localhost:8080/",
          "height": 70
        },
        "id": "VmmnNzijObOU",
        "outputId": "da437f0f-dff0-41c4-d96c-15c5b36de011"
      },
      "source": [
        "descr_1=DescrStatsW(notas1.rating)\r\n",
        "descr_593=DescrStatsW(notas593.rating)\r\n",
        "comparacao=descr_1.get_compare(descr_593)\r\n",
        "comparacao.summary(use_t=False)"
      ],
      "execution_count": null,
      "outputs": [
        {
          "output_type": "execute_result",
          "data": {
            "text/html": [
              "<table class=\"simpletable\">\n",
              "<caption>Test for equality of means</caption>\n",
              "<tr>\n",
              "      <td></td>         <th>coef</th>     <th>std err</th>      <th>z</th>      <th>P>|z|</th>  <th>[0.025</th>    <th>0.975]</th>  \n",
              "</tr>\n",
              "<tr>\n",
              "  <th>subset #1</th> <td>   -0.2404</td> <td>    0.077</td> <td>   -3.132</td> <td> 0.002</td> <td>   -0.391</td> <td>   -0.090</td>\n",
              "</tr>\n",
              "</table>"
            ],
            "text/plain": [
              "<class 'statsmodels.iolib.table.SimpleTable'>"
            ]
          },
          "metadata": {
            "tags": []
          },
          "execution_count": 70
        }
      ]
    },
    {
      "cell_type": "code",
      "metadata": {
        "colab": {
          "base_uri": "https://localhost:8080/",
          "height": 70
        },
        "id": "U3fmCfCqO51E",
        "outputId": "c1e3decc-56e3-4ada-9ee8-bb9007348abf"
      },
      "source": [
        "descr_72226=DescrStatsW(notas72226.rating)\r\n",
        "descr_593=DescrStatsW(notas593.rating)\r\n",
        "comparacao=descr_72226.get_compare(descr_593)\r\n",
        "comparacao.summary()"
      ],
      "execution_count": null,
      "outputs": [
        {
          "output_type": "execute_result",
          "data": {
            "text/html": [
              "<table class=\"simpletable\">\n",
              "<caption>Test for equality of means</caption>\n",
              "<tr>\n",
              "      <td></td>         <th>coef</th>     <th>std err</th>      <th>t</th>      <th>P>|t|</th>  <th>[0.025</th>    <th>0.975]</th>  \n",
              "</tr>\n",
              "<tr>\n",
              "  <th>subset #1</th> <td>   -0.0780</td> <td>    0.208</td> <td>   -0.374</td> <td> 0.708</td> <td>   -0.488</td> <td>    0.332</td>\n",
              "</tr>\n",
              "</table>"
            ],
            "text/plain": [
              "<class 'statsmodels.iolib.table.SimpleTable'>"
            ]
          },
          "metadata": {
            "tags": []
          },
          "execution_count": 69
        }
      ]
    },
    {
      "cell_type": "code",
      "metadata": {
        "colab": {
          "base_uri": "https://localhost:8080/",
          "height": 70
        },
        "id": "IlFoPTE2PdmG",
        "outputId": "bc000b88-7628-4250-939b-9084b897912b"
      },
      "source": [
        "comparacao=descr_72226.get_compare(descr_1)\r\n",
        "comparacao.summary()"
      ],
      "execution_count": null,
      "outputs": [
        {
          "output_type": "execute_result",
          "data": {
            "text/html": [
              "<table class=\"simpletable\">\n",
              "<caption>Test for equality of means</caption>\n",
              "<tr>\n",
              "      <td></td>         <th>coef</th>     <th>std err</th>      <th>t</th>      <th>P>|t|</th>  <th>[0.025</th>    <th>0.975]</th>  \n",
              "</tr>\n",
              "<tr>\n",
              "  <th>subset #1</th> <td>    0.1624</td> <td>    0.206</td> <td>    0.788</td> <td> 0.431</td> <td>   -0.243</td> <td>    0.568</td>\n",
              "</tr>\n",
              "</table>"
            ],
            "text/plain": [
              "<class 'statsmodels.iolib.table.SimpleTable'>"
            ]
          },
          "metadata": {
            "tags": []
          },
          "execution_count": 72
        }
      ]
    },
    {
      "cell_type": "code",
      "metadata": {
        "colab": {
          "base_uri": "https://localhost:8080/"
        },
        "id": "EEvo3uT-QGrA",
        "outputId": "4e553891-0a0c-4f7e-cae2-442853c37018"
      },
      "source": [
        "from scipy.stats import ranksums\r\n",
        "\r\n",
        "ranksums(notas1.rating,notas593.rating)\r\n",
        "#ranksums é muito utilizado para conferir se um conjunto de dados possui \r\n",
        "# dados maiores que o outro...\r\n",
        "\r\n",
        "# muito utilizado para conjunto de dados de notas"
      ],
      "execution_count": null,
      "outputs": [
        {
          "output_type": "execute_result",
          "data": {
            "text/plain": [
              "RanksumsResult(statistic=-3.5930962013771377, pvalue=0.0003267718756440693)"
            ]
          },
          "metadata": {
            "tags": []
          },
          "execution_count": 76
        }
      ]
    },
    {
      "cell_type": "code",
      "metadata": {
        "id": "Fm8kD1uaSSto"
      },
      "source": [
        ""
      ],
      "execution_count": null,
      "outputs": []
    }
  ]
}